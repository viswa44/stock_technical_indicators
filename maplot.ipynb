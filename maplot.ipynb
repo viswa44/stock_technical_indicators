{
 "cells": [
  {
   "cell_type": "code",
   "execution_count": null,
   "metadata": {},
   "outputs": [],
   "source": [
    "!pip install yahoo_fin matplotlib pandas\n"
   ]
  },
  {
   "cell_type": "code",
   "execution_count": null,
   "metadata": {},
   "outputs": [],
   "source": [
    "import pandas as pd\n",
    "from yahoo_fin import stock_info as si\n",
    "import matplotlib.pyplot as plt"
   ]
  },
  {
   "cell_type": "code",
   "execution_count": null,
   "metadata": {},
   "outputs": [],
   "source": [
    "stock = \"EURINR=X\"  # Change to your desired stock ticker\n",
    "start_date = \"2023-01-01\"\n",
    "end_date = \"2023-12-31\"\n",
    "\n",
    "# Step 4: Fetch stock data\n",
    "data = si.get_data(stock, start_date=start_date, end_date=end_date)\n",
    "\n",
    "# Step 5: Calculate moving average (MA_20)\n",
    "data['MA_20'] = data['close'].rolling(window=20).mean()\n",
    "\n",
    "# Step 6: Drop NaN values in 'MA_20'\n",
    "data.dropna(subset=['MA_20'], inplace=True)\n",
    "\n",
    "# Step 7: Plot the stock price and moving average\n",
    "plt.figure(figsize=(12, 6))\n",
    "plt.plot(data.index, data['close'], label='Closing Price')\n",
    "plt.plot(data.index, data['MA_20'], label='20-Day Moving Average', linestyle='--')\n",
    "plt.title(f\"{stock} Closing Price and 20-Day Moving Average\")\n",
    "plt.xlabel(\"Date\")\n",
    "plt.ylabel(\"Price\")\n",
    "plt.legend()\n",
    "plt.show()\n"
   ]
  }
 ],
 "metadata": {
  "language_info": {
   "name": "python"
  },
  "orig_nbformat": 4
 },
 "nbformat": 4,
 "nbformat_minor": 2
}
